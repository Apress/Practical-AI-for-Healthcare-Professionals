{
  "nbformat": 4,
  "nbformat_minor": 0,
  "metadata": {
    "colab": {
      "name": "chapter3.ipynb",
      "provenance": [],
      "collapsed_sections": []
    },
    "kernelspec": {
      "name": "python3",
      "display_name": "Python 3"
    },
    "language_info": {
      "name": "python"
    }
  },
  "cells": [
    {
      "cell_type": "markdown",
      "metadata": {
        "id": "-Z-zbMobo5FN"
      },
      "source": [
        "## Basic Hello World Example"
      ]
    },
    {
      "cell_type": "code",
      "metadata": {
        "colab": {
          "base_uri": "https://localhost:8080/"
        },
        "id": "AXV8OsgJJ-Rl",
        "outputId": "0b9b653c-6cf7-41c4-b276-957b0c22cc6e"
      },
      "source": [
        "print(\"Hello world\")"
      ],
      "execution_count": null,
      "outputs": [
        {
          "output_type": "stream",
          "text": [
            "Hello world\n"
          ],
          "name": "stdout"
        }
      ]
    },
    {
      "cell_type": "markdown",
      "metadata": {
        "id": "65LPSf5yo9E0"
      },
      "source": [
        "## Root Finder and the CSV reader/writer"
      ]
    },
    {
      "cell_type": "code",
      "metadata": {
        "id": "XGVqLo0rNQu7",
        "colab": {
          "base_uri": "https://localhost:8080/"
        },
        "outputId": "7a0a506e-5494-475f-b6e7-fb3428cc9805"
      },
      "source": [
        "import csv\n",
        "\n",
        "def root_finder(quadratic):\n",
        "  if (quadratic.find(\"x^2 \") > -1 and quadratic.find(\"x \") > -1 and\n",
        "      quadratic.find(\" = 0\") > -1):\n",
        "    split_result = quadratic.split(\" + \")\n",
        "    if (len(split_result) == 3):\n",
        "      a = int(split_result[0].replace('x^2', ''))\n",
        "      b = int(split_result[1].replace('x', ''))\n",
        "      c = int(split_result[2].replace(' = 0', ''))\n",
        "      sqrt_part = ((b)**2 - (4*a*c))**(1/2)\n",
        "      pos_root = (-(b) + sqrt_part)/(2*a)\n",
        "      neg_root = (-(b) - sqrt_part)/(2*a)\n",
        "      return (pos_root, neg_root)\n",
        "    else:\n",
        "      print(\"Malformed input. Expected two ' + ' in string.\")\n",
        "      return None\n",
        "  else:\n",
        "    print(\"Malformed input. Excpected x^2, x, and = 0 in string.\")\n",
        "    return None\n",
        "\n",
        "def read_write_file(input_filename, output_filename):\n",
        "  answers = []\n",
        "  with open(input_filename) as csv_file:\n",
        "    csv_data = csv.reader(csv_file)\n",
        "    for idx, row in enumerate(csv_file):\n",
        "      if (idx > 0): \n",
        "        answer = root_finder(row)\n",
        "        if answer != None:\n",
        "          positive_root, negative_root = answer\n",
        "          answers.append({\n",
        "              \"equation\": row,\n",
        "              \"positive root\": positive_root,\n",
        "              \"negative root\": negative_root,\n",
        "          })\n",
        "  print(answers)\n",
        "  if len(answers) > 0:\n",
        "    with open(output_filename, 'w') as csv_output_file:\n",
        "      fieldnames = [\"equation\", \"positive root\", \"negative root\"]\n",
        "      csv_writer = csv.DictWriter(csv_output_file, fieldnames=fieldnames)\n",
        "      csv_writer.writeheader()\n",
        "      for a in answers:\n",
        "        csv_writer.writerow(a)\n",
        "\n",
        "read_write_file(\"input.csv\", \"output.csv\")"
      ],
      "execution_count": 32,
      "outputs": [
        {
          "output_type": "stream",
          "text": [
            "[{'equation': '1x^2 + -8x + 12 = 0\\n', 'positive root': 6.0, 'negative root': 2.0}, {'equation': '1x^2 + -9x + 12 = 0\\n', 'positive root': 7.372281323269014, 'negative root': 1.6277186767309857}, {'equation': '1x^2 + -8x + 8 = 0\\n', 'positive root': 6.82842712474619, 'negative root': 1.1715728752538097}, {'equation': '1x^2 + -7x + 12 = 0\\n', 'positive root': 4.0, 'negative root': 3.0}, {'equation': '1x^2 + -10x + 12 = 0', 'positive root': 8.60555127546399, 'negative root': 1.3944487245360109}]\n"
          ],
          "name": "stdout"
        }
      ]
    },
    {
      "cell_type": "markdown",
      "metadata": {
        "id": "howwZLz1pE3o"
      },
      "source": [
        "### Side note on objects code"
      ]
    },
    {
      "cell_type": "code",
      "metadata": {
        "colab": {
          "base_uri": "https://localhost:8080/"
        },
        "id": "ry4xHRcOnwyj",
        "outputId": "4b6682b5-5150-49de-cfd4-2c324649a43f"
      },
      "source": [
        "class Patient:\n",
        "  def __init__(self, name, age, height, weight):\n",
        "      self.name = name\n",
        "      self.age = age\n",
        "      self.height = height\n",
        "      self.weight = weight\n",
        "  def get_bmi(self):\n",
        "      return self.weight / ((self.height)**2)\n",
        "\n",
        "# Instantiate a patient object with specific age height and weight\n",
        "bob = Patient(\"bob\", 24, 1.76, 63.5)\n",
        "# print out bob's BMI\n",
        "print(bob.get_bmi()) # outputs: \n",
        "print(f\"Bob's height is {bob.height}m. His weight is {bob.weight}kg.\")"
      ],
      "execution_count": null,
      "outputs": [
        {
          "output_type": "stream",
          "text": [
            "20.499741735537192\n",
            "Bob's height is 1.76m. His weight is 63.5kg.\n"
          ],
          "name": "stdout"
        }
      ]
    },
    {
      "cell_type": "markdown",
      "metadata": {
        "id": "95w63iScpHko"
      },
      "source": [
        "### Side note on dictionaries code"
      ]
    },
    {
      "cell_type": "code",
      "metadata": {
        "id": "9VGBYHQMmkkL",
        "colab": {
          "base_uri": "https://localhost:8080/"
        },
        "outputId": "fe6cc847-62fc-49ac-c6b9-14c12ab16c19"
      },
      "source": [
        "bob = {\n",
        "    \"name\": \"Bob Jones\",\n",
        "    \"height\": 1.76,\n",
        "    \"weight\": 67.0\n",
        "}\n",
        "\n",
        "print(bob['name']) # Bob Jones\n",
        "print(bob['height']) # 1.76\n",
        "print(bob['weight']) # 67.0\n",
        "\n",
        "bob['gender'] = 'Male' # adds a key \"gender\" and set it equal to \"Male\"\n",
        "bob['height'] = 1.75 # edits the current value of height from 1.76 to 1.75\n",
        "print(bob)"
      ],
      "execution_count": 2,
      "outputs": [
        {
          "output_type": "stream",
          "text": [
            "Bob Jones\n",
            "1.76\n",
            "67.0\n",
            "{'name': 'Bob Jones', 'height': 1.75, 'weight': 67.0, 'gender': 'Male'}\n"
          ],
          "name": "stdout"
        }
      ]
    },
    {
      "cell_type": "markdown",
      "metadata": {
        "id": "-mfXwpIBpLBh"
      },
      "source": [
        "## Revamping CSV Reader / Writer with Pandas"
      ]
    },
    {
      "cell_type": "code",
      "metadata": {
        "colab": {
          "base_uri": "https://localhost:8080/",
          "height": 204
        },
        "id": "GCw3t_0bfZZ3",
        "outputId": "6ffd140c-6267-4db1-ddd5-e95f4ed220de"
      },
      "source": [
        "import pandas as pd\n",
        "\n",
        "def read_write_file_with_pandas(input_filename, output_filename):\n",
        "  df = pd.read_csv(input_filename)\n",
        "  results = df['Formula'].apply(root_finder)\n",
        "  results = results.dropna()\n",
        "  if (len(results) > 0):\n",
        "    df[['positive root', 'negative root']] = results.tolist()\n",
        "    df.to_csv(output_filename)\n",
        "    display(df)\n",
        "  else:\n",
        "    print(\"No valid results\")\n",
        "\n",
        "read_write_file_with_pandas('input.csv', 'output.csv')"
      ],
      "execution_count": 36,
      "outputs": [
        {
          "output_type": "display_data",
          "data": {
            "text/html": [
              "<div>\n",
              "<style scoped>\n",
              "    .dataframe tbody tr th:only-of-type {\n",
              "        vertical-align: middle;\n",
              "    }\n",
              "\n",
              "    .dataframe tbody tr th {\n",
              "        vertical-align: top;\n",
              "    }\n",
              "\n",
              "    .dataframe thead th {\n",
              "        text-align: right;\n",
              "    }\n",
              "</style>\n",
              "<table border=\"1\" class=\"dataframe\">\n",
              "  <thead>\n",
              "    <tr style=\"text-align: right;\">\n",
              "      <th></th>\n",
              "      <th>Formula</th>\n",
              "      <th>positive root</th>\n",
              "      <th>negative root</th>\n",
              "    </tr>\n",
              "  </thead>\n",
              "  <tbody>\n",
              "    <tr>\n",
              "      <th>0</th>\n",
              "      <td>1x^2 + -8x + 12 = 0</td>\n",
              "      <td>6.000000</td>\n",
              "      <td>2.000000</td>\n",
              "    </tr>\n",
              "    <tr>\n",
              "      <th>1</th>\n",
              "      <td>1x^2 + -9x + 12 = 0</td>\n",
              "      <td>7.372281</td>\n",
              "      <td>1.627719</td>\n",
              "    </tr>\n",
              "    <tr>\n",
              "      <th>2</th>\n",
              "      <td>1x^2 + -8x + 8 = 0</td>\n",
              "      <td>6.828427</td>\n",
              "      <td>1.171573</td>\n",
              "    </tr>\n",
              "    <tr>\n",
              "      <th>3</th>\n",
              "      <td>1x^2 + -7x + 12 = 0</td>\n",
              "      <td>4.000000</td>\n",
              "      <td>3.000000</td>\n",
              "    </tr>\n",
              "    <tr>\n",
              "      <th>4</th>\n",
              "      <td>1x^2 + -10x + 12 = 0</td>\n",
              "      <td>8.605551</td>\n",
              "      <td>1.394449</td>\n",
              "    </tr>\n",
              "  </tbody>\n",
              "</table>\n",
              "</div>"
            ],
            "text/plain": [
              "                Formula  positive root  negative root\n",
              "0   1x^2 + -8x + 12 = 0       6.000000       2.000000\n",
              "1   1x^2 + -9x + 12 = 0       7.372281       1.627719\n",
              "2    1x^2 + -8x + 8 = 0       6.828427       1.171573\n",
              "3   1x^2 + -7x + 12 = 0       4.000000       3.000000\n",
              "4  1x^2 + -10x + 12 = 0       8.605551       1.394449"
            ]
          },
          "metadata": {
            "tags": []
          }
        }
      ]
    },
    {
      "cell_type": "code",
      "metadata": {
        "id": "Mrucfzl0favm"
      },
      "source": [
        ""
      ],
      "execution_count": null,
      "outputs": []
    }
  ]
}